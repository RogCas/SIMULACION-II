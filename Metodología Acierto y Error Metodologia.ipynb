{
  "cells": [
    {
      "cell_type": "markdown",
      "metadata": {
        "id": "view-in-github",
        "colab_type": "text"
      },
      "source": [
        "<a href=\"https://colab.research.google.com/github/RogCas/SIMULACION-II/blob/main/Metodolog%C3%ADa%20Acierto%20y%20Error%20Metodologia.ipynb\" target=\"_parent\"><img src=\"https://colab.research.google.com/assets/colab-badge.svg\" alt=\"Open In Colab\"/></a>"
      ]
    },
    {
      "cell_type": "markdown",
      "id": "a5cc0a87",
      "metadata": {
        "id": "a5cc0a87"
      },
      "source": [
        "# Metodología Acierto y Error\n",
        "---\n",
        "\n"
      ]
    },
    {
      "cell_type": "markdown",
      "id": "0e218d98",
      "metadata": {
        "id": "0e218d98"
      },
      "source": [
        "### 1. Identifique las variables\n",
        "\n",
        "Serian el numero de puntos que caen en el area bajo la curva(acierto $N_h$ y error $N$ - $N_h$)"
      ]
    },
    {
      "cell_type": "markdown",
      "id": "3ebcd0f2",
      "metadata": {
        "id": "3ebcd0f2"
      },
      "source": [
        "### 2. Determine la distribución de probabilidad\n",
        "\n",
        "\n",
        "|           |**Acierto**|**Error**|\n",
        "|-----------|-------|----------|\n",
        "|f(x)       |  $$\\frac{I}{c(b-a)}  \\text{   O   } \\frac{N_h}{N}$$     |  $$1 - \\frac{I}{c(b-a)} \\text{   O   }  1- \\frac{N_h}{N}$$      |\n",
        "|F(x)       |  $$\\frac{N_h}{N}$$ |  $$1$$        |\n",
        "|Intervalos |   $$[0,\\frac{N_h}{N})$$    |  $$[\\frac{N_h}{N},1]$$        |"
      ]
    },
    {
      "cell_type": "markdown",
      "id": "803801d5",
      "metadata": {
        "id": "803801d5"
      },
      "source": [
        "### 3 y 4. Modele las variables aleatorias,  Defina el modelo del sistema y los objetivos de la simulación\n",
        "\n",
        "\n",
        "Usaremos el metodo de Montecarlo Acierto y error\n",
        "Lo que haremos sera crear un cuadrado de lado 1, dentro de este pondremos la funcion correspondiente y contaremos el numero de puntos que caen debajo de la curva de la funcion entre 0 y 1\n",
        "\n",
        "Si no esta entre 0 y 1 la adaptaremos haciendo lo siguiente\n",
        "\n",
        "\\begin{equation*}\n",
        "\\begin{aligned}\n",
        " I = \\int_a^b f(x) \\quad dx\n",
        "\\end{aligned}\n",
        "\\end{equation*}\n",
        "\n",
        "Propondremos una funcion u parecida a f(x) tal que al sustituir \"a\" nos de 0 y al sustituir \"b\" nos de 1, o en un caso diferente que sustituyendo en \"a\" nos de 1 y sustituyendo en \"b\" nos de 0, si es el segundo caso, usaremos el teorema fundamental del calculo para cambiar los limites de la integral agregando un menos\n",
        "\n",
        "\n",
        "Al tener la funcion lista lo que haremos sera despejar x de la funcion u.\n",
        "\n",
        "Al tener x despejada la sustituiremos por la funcion original en la integral\n",
        "cambiamos los limites segun sea el caso\n",
        "\n",
        "Y listo ya acabamos\n",
        "\n",
        "Objetivo: Hallar el area bajo la curva de una funcion dada"
      ]
    },
    {
      "cell_type": "code",
      "source": [
        "import random\n",
        "import numpy as np\n",
        "import matplotlib.pyplot as plt\n",
        "\n",
        "\n",
        "#funcion\n",
        "def f(x):\n",
        "  #escriba su funcion de 0 a 1\n",
        "  return (x**(-3)-x**(-2))*((1+(1/x-1)**2)**(-2))\n",
        "\n",
        "  #return np.exp(np.exp(x)) #ejercicio 5a\n",
        "  #return (1-x)**(3/2) #ejercicio 5b\n",
        "def integral(n): #numero de simulaciones\n",
        "\n",
        "  aciertos=0 #numero de aciertos\n",
        "\n",
        "  aciertosx=[]\n",
        "  aciertosy=[]\n",
        "\n",
        "  errorx=[]\n",
        "  errory=[]\n",
        "\n",
        "  aproximacion=[]\n",
        "  simulaciones=[]\n",
        "\n",
        "  a=0\n",
        "  b=1\n",
        "\n",
        "  # Encontrar el valor máximo de f(x) en el rango de (a,b)\n",
        "  x_values = np.linspace(a+.01, b, 1000)\n",
        "  y_values = f(x_values)\n",
        "  valor_maximo = np.max(y_values)\n",
        "\n",
        "  #\n",
        "  c=np.ceil(valor_maximo+.1) #cota\n",
        "\n",
        "  for i in range(n):\n",
        "\n",
        "    #Lo puse asi ya que es lo mismo que a+(b-a)*U(0,1)\n",
        "    x=random.uniform(a,b) #Aleatorio 1\n",
        "    y=random.uniform(a,b) #Aleatorio 2\n",
        "\n",
        "    if (f(x)>c*y):\n",
        "      aciertos+=1\n",
        "      aciertosx.append(x)\n",
        "      aciertosy.append(y)\n",
        "    else:\n",
        "      errorx.append(x)\n",
        "      errory.append(y)\n",
        "    aproximacion.append((c*(b-a)*aciertos)/(i+1))\n",
        "    simulaciones.append(i+1)\n",
        "\n",
        "  return aproximacion,simulaciones,aciertosx,aciertosy,errorx,errory\n",
        "\n",
        "\n",
        "\n",
        "\n",
        "\n"
      ],
      "metadata": {
        "id": "l4OPXfXnNs-k"
      },
      "id": "l4OPXfXnNs-k",
      "execution_count": 101,
      "outputs": []
    },
    {
      "cell_type": "code",
      "source": [
        "#numero de simulaciones\n",
        "n=10000\n",
        "print(integral(n)[0][-1]) #aproximacion"
      ],
      "metadata": {
        "colab": {
          "base_uri": "https://localhost:8080/"
        },
        "id": "PU7qKEilSZam",
        "outputId": "fd50c0f9-e097-4f4d-db8c-c61c0fceeb44"
      },
      "id": "PU7qKEilSZam",
      "execution_count": 111,
      "outputs": [
        {
          "output_type": "stream",
          "name": "stdout",
          "text": [
            "0.5084\n"
          ]
        }
      ]
    },
    {
      "cell_type": "markdown",
      "id": "7f853065",
      "metadata": {
        "id": "7f853065"
      },
      "source": [
        "### 5. Diseñe el experimento\n",
        "\n",
        "Obtenga la gráfica de estabilización que indica que el tamaño de muestra utilizado es suficiente para\n",
        "garantizar la convergencia del resultado.\n"
      ]
    },
    {
      "cell_type": "code",
      "source": [
        "\n",
        "#aproximacion,simulaciones,aciertosx,aciertosy,errorx,errory=integral(n)\n",
        "#aproximacion=integral(n)[0]\n",
        "\n",
        "ordenada=(integral(n)[0])\n",
        "absisa=(integral(n)[1])\n",
        "\n",
        "plt.plot(absisa,ordenada)\n",
        "plt.xlabel(\"Número de simulaciones\")\n",
        "plt.ylabel(\"Aproximación\")\n",
        "plt.show()"
      ],
      "metadata": {
        "id": "GxSsrHber-yN",
        "outputId": "966a1149-75ee-48f1-d418-01d806f0164a",
        "colab": {
          "base_uri": "https://localhost:8080/",
          "height": 449
        }
      },
      "id": "GxSsrHber-yN",
      "execution_count": 112,
      "outputs": [
        {
          "output_type": "display_data",
          "data": {
            "text/plain": [
              "<Figure size 640x480 with 1 Axes>"
            ],
            "image/png": "[encoded data removed]"
          },
          "metadata": {}
        }
      ]
    },
    {
      "cell_type": "markdown",
      "id": "15ae61c8",
      "metadata": {
        "id": "15ae61c8"
      },
      "source": [
        "### 6. Repita el experimento $n$ veces\n",
        "\n",
        "Histograma\n"
      ]
    },
    {
      "cell_type": "code",
      "source": [
        "def media(m):\n",
        "  naproximacion=[]\n",
        "  for i in range(m):\n",
        "    #aproximacion,simulaciones,aciertosx,aciertosy,errorx,errory=integral(n)\n",
        "    #aproximacion=integral(n)[0]\n",
        "    #ultimo valor de la lista aproximacion=integral(n)[0][-1]\n",
        "    naproximacion.append(integral(n)[0][-1])\n",
        "\n",
        "  return naproximacion"
      ],
      "metadata": {
        "id": "BHAdGjcLzmgR"
      },
      "id": "BHAdGjcLzmgR",
      "execution_count": 113,
      "outputs": []
    },
    {
      "cell_type": "code",
      "source": [
        "m=100\n",
        "simulacionm=media(m)\n",
        "\n",
        "plt.hist(simulacionm)\n",
        "plt.xlabel('Valor calculado')\n",
        "plt.ylabel('# medias')\n",
        "plt.title('Probabilidad')\n",
        "plt.show()"
      ],
      "metadata": {
        "id": "1wwwFeNvCpGW",
        "outputId": "b909d058-fd8f-4142-b304-cdea3a9db508",
        "colab": {
          "base_uri": "https://localhost:8080/",
          "height": 472
        }
      },
      "id": "1wwwFeNvCpGW",
      "execution_count": 120,
      "outputs": [
        {
          "output_type": "display_data",
          "data": {
            "text/plain": [
              "<Figure size 640x480 with 1 Axes>"
            ],
            "image/png": "[encoded data removed]"
          },
          "metadata": {}
        }
      ]
    },
    {
      "cell_type": "markdown",
      "source": [
        "### Media,Varianza y Desviacion"
      ],
      "metadata": {
        "id": "zsdU3U6MF1wj"
      },
      "id": "zsdU3U6MF1wj"
    },
    {
      "cell_type": "code",
      "source": [
        "print(\"\\n\",np.mean(simulacionm), np.var(simulacionm), np.std(simulacionm))"
      ],
      "metadata": {
        "id": "x_Hu-TG5GCB3",
        "outputId": "4a152f16-a7b7-4ec5-bd7e-ae8c06a30d93",
        "colab": {
          "base_uri": "https://localhost:8080/"
        }
      },
      "id": "x_Hu-TG5GCB3",
      "execution_count": 121,
      "outputs": [
        {
          "output_type": "stream",
          "name": "stdout",
          "text": [
            "\n",
            " 0.500796 6.935518400000001e-05 0.008327975984595538\n"
          ]
        }
      ]
    },
    {
      "cell_type": "markdown",
      "source": [
        "### Intervalo de confianza"
      ],
      "metadata": {
        "id": "sw1WqhdVGBgg"
      },
      "id": "sw1WqhdVGBgg"
    },
    {
      "cell_type": "code",
      "source": [
        "import numpy as np\n",
        "import scipy.stats as stats\n",
        "\n",
        "nivel_confianza = 0.95\n",
        "\n",
        "datos = np.array(simulacionm)\n",
        "media_muestral = np.mean(simulacionm)\n",
        "desviacion = np.std(simulacionm)\n",
        "tamaño_muestra = len(datos)\n",
        "\n",
        "# Codigo con valor critico\n",
        "\n",
        "valor_critico = stats.norm.ppf((1 + nivel_confianza)/2)\n",
        "intervalo_inf = media_muestral - (valor_critico)*(desviacion/np.sqrt(tamaño_muestra))\n",
        "intervalo_sup = media_muestral + (valor_critico)*(desviacion/np.sqrt(tamaño_muestra))\n",
        "print(\"\\nIntervalo inferior : \",intervalo_inf)\n",
        "print(\"\\nIntervalo superior : \",intervalo_sup)\n",
        "\n"
      ],
      "metadata": {
        "id": "FDXWRJQJHXzZ",
        "outputId": "a5b1bf36-998b-4db9-bbef-dcb6b0a51af8",
        "colab": {
          "base_uri": "https://localhost:8080/"
        }
      },
      "id": "FDXWRJQJHXzZ",
      "execution_count": 122,
      "outputs": [
        {
          "output_type": "stream",
          "name": "stdout",
          "text": [
            "\n",
            "Intervalo inferior :  0.49916374670060787\n",
            "\n",
            "Intervalo superior :  0.5024282532993922\n"
          ]
        }
      ]
    },
    {
      "cell_type": "code",
      "source": [
        "# Codigo corto\n",
        "\n",
        "intervalo_confianza = stats.t.interval(nivel_confianza, tamaño_muestra-1, loc=media_muestral, scale=stats.sem(datos))\n",
        "print(\"Intervalo de confianza : \", intervalo_confianza)\n",
        "\n"
      ],
      "metadata": {
        "id": "RoHtbSX9I18P",
        "outputId": "c547737d-4d95-4c23-9c6f-d7af44c7ab69",
        "colab": {
          "base_uri": "https://localhost:8080/"
        }
      },
      "id": "RoHtbSX9I18P",
      "execution_count": 123,
      "outputs": [
        {
          "output_type": "stream",
          "name": "stdout",
          "text": [
            "Intervalo de confianza :  (0.49913522414453354, 0.5024567758554666)\n"
          ]
        }
      ]
    }
  ],
  "metadata": {
    "kernelspec": {
      "display_name": "Python 3 (ipykernel)",
      "language": "python",
      "name": "python3"
    },
    "language_info": {
      "codemirror_mode": {
        "name": "ipython",
        "version": 3
      },
      "file_extension": ".py",
      "mimetype": "text/x-python",
      "name": "python",
      "nbconvert_exporter": "python",
      "pygments_lexer": "ipython3",
      "version": "3.7.3"
    },
    "colab": {
      "provenance": [],
      "include_colab_link": true
    }
  },
  "nbformat": 4,
  "nbformat_minor": 5
}