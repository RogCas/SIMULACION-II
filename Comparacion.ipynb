{
  "nbformat": 4,
  "nbformat_minor": 0,
  "metadata": {
    "colab": {
      "provenance": [],
      "authorship_tag": "ABX9TyNcA4WDhw/W/gwMYLq9/4LK",
      "include_colab_link": true
    },
    "kernelspec": {
      "name": "python3",
      "display_name": "Python 3"
    },
    "language_info": {
      "name": "python"
    }
  },
  "cells": [
    {
      "cell_type": "markdown",
      "metadata": {
        "id": "view-in-github",
        "colab_type": "text"
      },
      "source": [
        "<a href=\"https://colab.research.google.com/github/RogCas/SIMULACION-II/blob/main/Comparacion.ipynb\" target=\"_parent\"><img src=\"https://colab.research.google.com/assets/colab-badge.svg\" alt=\"Open In Colab\"/></a>"
      ]
    },
    {
      "cell_type": "markdown",
      "source": [
        "# Aproximación a la integral\n",
        "\\begin{equation*}\n",
        "\\begin{aligned}\n",
        " I = \\int_0^1 \\frac{{e^x - 1}}{{e - 1}} \\quad dx\n",
        "\\end{aligned}\n",
        "\\end{equation*}"
      ],
      "metadata": {
        "id": "CJ4vo0zns7Xg"
      }
    },
    {
      "cell_type": "markdown",
      "source": [
        "#Wolfram nos da que el resultado es de\n",
        "\\begin{equation}\n",
        "\\int_{0}^{1} \\frac{e^x - 1}{e - 1} \\, dx = \\frac{e - 2}{e - 1} \\approx 0.41802\n",
        "\\end{equation}"
      ],
      "metadata": {
        "id": "CRtKtvFZtyNF"
      }
    },
    {
      "cell_type": "code",
      "source": [
        "import random\n",
        "import numpy as np\n",
        "def funcion(x):\n",
        "    # Define la función que quieres integrar\n",
        "    return ((np.exp(x) - 1) / (np.e - 1))"
      ],
      "metadata": {
        "id": "z-z5m3Jjy3oi"
      },
      "execution_count": 257,
      "outputs": []
    },
    {
      "cell_type": "markdown",
      "source": [
        "#Media Muestral"
      ],
      "metadata": {
        "id": "xzR3aT5ltm6U"
      }
    },
    {
      "cell_type": "code",
      "source": [
        "\n",
        "def mediaMuestral(num_muestras):\n",
        "    # Intervalo\n",
        "    a = 0\n",
        "    b = 1\n",
        "    suma = 0\n",
        "    for _ in range(n):\n",
        "\n",
        "        x = random.uniform(a, b)\n",
        "        suma += funcion(x)\n",
        "\n",
        "    # Calcula el promedio de las muestras y multiplica por el ancho del intervalo\n",
        "    aprox = (suma / n) * (b - a)\n",
        "    return aprox"
      ],
      "metadata": {
        "id": "F1YhfLsztoxj"
      },
      "execution_count": 258,
      "outputs": []
    },
    {
      "cell_type": "code",
      "source": [
        "n = 10000\n",
        "\n",
        "aprox = mediaMuestral(n)\n",
        "\n",
        "print(\"La integral aproximada es:\", aprox)"
      ],
      "metadata": {
        "colab": {
          "base_uri": "https://localhost:8080/"
        },
        "id": "nvivfwP92TYQ",
        "outputId": "c94a9b00-8198-4784-ee0e-c641db0a5cfd"
      },
      "execution_count": 259,
      "outputs": [
        {
          "output_type": "stream",
          "name": "stdout",
          "text": [
            "La integral aproximada es: 0.4156290153616902\n"
          ]
        }
      ]
    },
    {
      "cell_type": "markdown",
      "source": [
        "#Acierto y Error"
      ],
      "metadata": {
        "id": "dFir3y1etpI6"
      }
    },
    {
      "cell_type": "code",
      "source": [
        "def cota():\n",
        "  a=0\n",
        "  b=1\n",
        "\n",
        "  # Encontrar el valor máximo de f(x) en el rango de (a,b)\n",
        "  x_values = np.linspace(a+.01, b, 1000)\n",
        "  y_values = funcion(x_values)\n",
        "  valor_maximo = np.max(y_values)\n",
        "\n",
        "  #\n",
        "  c=np.ceil(valor_maximo+.1) #cota\n",
        "  c=int(c)\n",
        "  return c\n",
        "\n",
        "def aciertoError(n): #numero de simulaciones\n",
        "\n",
        "  aciertos=0 #numero de aciertos\n",
        "  a=0\n",
        "  b=1\n",
        "  c=cota()\n",
        "  for i in range(n):\n",
        "\n",
        "    #Lo puse asi ya que es lo mismo que a+(b-a)*U(0,1)\n",
        "    x=random.uniform(a,b) #Aleatorio 1\n",
        "    y=random.uniform(a,b) #Aleatorio 2\n",
        "    x=(x*(b-a)+a)\n",
        "    if (funcion(x)>c*y):\n",
        "      aciertos+=1\n",
        "  ap=(c*(b-a)*aciertos)/n\n",
        "  return ap"
      ],
      "metadata": {
        "id": "w9brHqoWuB9R"
      },
      "execution_count": 256,
      "outputs": []
    },
    {
      "cell_type": "code",
      "source": [
        "#numero de simulaciones\n",
        "n=10000\n",
        "print(\"La integral aproximada es:\",aciertoError(n)) #aproximacion"
      ],
      "metadata": {
        "colab": {
          "base_uri": "https://localhost:8080/"
        },
        "id": "NEJ1YhccvWuK",
        "outputId": "87e8c496-988f-4314-8df9-d0e34bcc2939"
      },
      "execution_count": 260,
      "outputs": [
        {
          "output_type": "stream",
          "name": "stdout",
          "text": [
            "La integral aproximada es: 0.4234\n"
          ]
        }
      ]
    },
    {
      "cell_type": "markdown",
      "source": [
        "#Muestreo Importancia"
      ],
      "metadata": {
        "id": "n_tKjos0uCZk"
      }
    },
    {
      "cell_type": "code",
      "source": [
        "def fun(x):\n",
        "  return 1.87*x\n",
        "def muestreoImp(n):\n",
        "    a=0\n",
        "    b=1\n",
        "    i = 1\n",
        "\n",
        "    suma=0\n",
        "    while i <= n:\n",
        "        x = random.random()\n",
        "        x = (b-a)*x+a\n",
        "        suma = suma + (funcion(x)/fun(x))\n",
        "        i += 1\n",
        "    aprox = suma/n\n",
        "    return aprox"
      ],
      "metadata": {
        "id": "QrfCt99YuFH8"
      },
      "execution_count": 261,
      "outputs": []
    },
    {
      "cell_type": "code",
      "source": [
        "n=10000\n",
        "print(\"La integral aproximada es:\",muestreoImp(n)) #aproximacion\n"
      ],
      "metadata": {
        "colab": {
          "base_uri": "https://localhost:8080/"
        },
        "id": "vc5JOSMTzhvT",
        "outputId": "f0415911-2ee7-47cb-90e1-3538e257c4c2"
      },
      "execution_count": 262,
      "outputs": [
        {
          "output_type": "stream",
          "name": "stdout",
          "text": [
            "La integral aproximada es: 0.4103776043896093\n"
          ]
        }
      ]
    },
    {
      "cell_type": "markdown",
      "source": [
        "#Muestreo Estratificado"
      ],
      "metadata": {
        "id": "JvzVJJVKuFYq"
      }
    },
    {
      "cell_type": "code",
      "source": [
        "def muestreoEst(n):\n",
        "    m = 10\n",
        "    a = 0\n",
        "    b = 1\n",
        "    l = (b-a)/m\n",
        "    puntos = int(n/m)\n",
        "    prom = 0\n",
        "    for j in range(1, m+1):\n",
        "        for i in range(1, puntos+1):\n",
        "            x = l*random.random() + (j-1)/m\n",
        "            prom = prom + funcion(x)\n",
        "    return prom/n"
      ],
      "metadata": {
        "id": "5FwYtnOcuISz"
      },
      "execution_count": 263,
      "outputs": []
    },
    {
      "cell_type": "code",
      "source": [
        "n=10000\n",
        "print(\"La integral aproximada es:\",estratificado(n)) #aproximacion"
      ],
      "metadata": {
        "colab": {
          "base_uri": "https://localhost:8080/"
        },
        "id": "CxhxLJhZ4mE6",
        "outputId": "2d3b37c0-9c30-4e54-bc51-ff7e741aaff3"
      },
      "execution_count": 264,
      "outputs": [
        {
          "output_type": "stream",
          "name": "stdout",
          "text": [
            "La integral aproximada es: 0.41760188373187496\n"
          ]
        }
      ]
    },
    {
      "cell_type": "markdown",
      "source": [
        "#Comparacion"
      ],
      "metadata": {
        "id": "Dn4tx01440zT"
      }
    },
    {
      "cell_type": "code",
      "source": [
        "n=10000 #numero de simluaciones en cada programa"
      ],
      "metadata": {
        "id": "9wEt9rYg42C7"
      },
      "execution_count": 265,
      "outputs": []
    },
    {
      "cell_type": "code",
      "source": [
        "#numero de simulaciones\n",
        "N=1000"
      ],
      "metadata": {
        "id": "klOhI38v44Ls"
      },
      "execution_count": 266,
      "outputs": []
    },
    {
      "cell_type": "code",
      "source": [
        "MM = []\n",
        "AE = []\n",
        "MI = []\n",
        "ME = []\n",
        "for i in range(N):\n",
        "  MM.append(mediaMuestral(N))\n",
        "  AE.append(aciertoError(N))\n",
        "  MI.append(muestreoImp(N))\n",
        "  ME.append(muestreoEst(N))"
      ],
      "metadata": {
        "id": "Z0azZk8j5KD9"
      },
      "execution_count": 267,
      "outputs": []
    },
    {
      "cell_type": "markdown",
      "source": [
        "##Sacamos medias y varianzas"
      ],
      "metadata": {
        "id": "Wa0cPbXD7blI"
      }
    },
    {
      "cell_type": "code",
      "source": [
        "#Medias\n",
        "mMM = np.mean(MM)\n",
        "mAE = np.mean(AE)\n",
        "mMI = np.mean(MI)\n",
        "mME = np.mean(ME)\n",
        "\n",
        "#Varianzas\n",
        "vMM = np.var(MM)\n",
        "vAE = np.var(AE)\n",
        "vMI = np.var(MI)\n",
        "vME = np.var(ME)"
      ],
      "metadata": {
        "id": "CJqN_c127etL"
      },
      "execution_count": 268,
      "outputs": []
    },
    {
      "cell_type": "markdown",
      "source": [
        "##Tabla"
      ],
      "metadata": {
        "id": "mCeNvRff8u31"
      }
    },
    {
      "cell_type": "code",
      "source": [
        "import pandas as pd\n",
        "df={'Método':['Acierto y Error','Media Muestral','Muestreo Importancia','Muestreo Estratificado'],\n",
        "    'Aprox Int':[mMM,mAE,mMI,mME],\n",
        "    'Comparación de varianzas':[vMM,vAE,vMI,vME]}\n",
        "\n",
        "df=pd.DataFrame(df)\n",
        "\n",
        "df"
      ],
      "metadata": {
        "colab": {
          "base_uri": "https://localhost:8080/",
          "height": 175
        },
        "id": "wAzlGsmu8wGj",
        "outputId": "8e661fe5-0edd-438d-feac-0c1c25a31557"
      },
      "execution_count": 269,
      "outputs": [
        {
          "output_type": "execute_result",
          "data": {
            "text/plain": [
              "                   Método  Aprox Int  Comparación de varianzas\n",
              "0         Acierto y Error   0.417995              8.196574e-06\n",
              "1          Media Muestral   0.418142              6.397598e-04\n",
              "2    Muestreo Importancia   0.410117              4.432895e-06\n",
              "3  Muestreo Estratificado   0.418016              9.007236e-07"
            ],
            "text/html": [
              "\n",
              "  <div id=\"df-978062f2-2735-4f74-9545-e9da20e07836\" class=\"colab-df-container\">\n",
              "    <div>\n",
              "<style scoped>\n",
              "    .dataframe tbody tr th:only-of-type {\n",
              "        vertical-align: middle;\n",
              "    }\n",
              "\n",
              "    .dataframe tbody tr th {\n",
              "        vertical-align: top;\n",
              "    }\n",
              "\n",
              "    .dataframe thead th {\n",
              "        text-align: right;\n",
              "    }\n",
              "</style>\n",
              "<table border=\"1\" class=\"dataframe\">\n",
              "  <thead>\n",
              "    <tr style=\"text-align: right;\">\n",
              "      <th></th>\n",
              "      <th>Método</th>\n",
              "      <th>Aprox Int</th>\n",
              "      <th>Comparación de varianzas</th>\n",
              "    </tr>\n",
              "  </thead>\n",
              "  <tbody>\n",
              "    <tr>\n",
              "      <th>0</th>\n",
              "      <td>Acierto y Error</td>\n",
              "      <td>0.417995</td>\n",
              "      <td>8.196574e-06</td>\n",
              "    </tr>\n",
              "    <tr>\n",
              "      <th>1</th>\n",
              "      <td>Media Muestral</td>\n",
              "      <td>0.418142</td>\n",
              "      <td>6.397598e-04</td>\n",
              "    </tr>\n",
              "    <tr>\n",
              "      <th>2</th>\n",
              "      <td>Muestreo Importancia</td>\n",
              "      <td>0.410117</td>\n",
              "      <td>4.432895e-06</td>\n",
              "    </tr>\n",
              "    <tr>\n",
              "      <th>3</th>\n",
              "      <td>Muestreo Estratificado</td>\n",
              "      <td>0.418016</td>\n",
              "      <td>9.007236e-07</td>\n",
              "    </tr>\n",
              "  </tbody>\n",
              "</table>\n",
              "</div>\n",
              "    <div class=\"colab-df-buttons\">\n",
              "\n",
              "  <div class=\"colab-df-container\">\n",
              "    <button class=\"colab-df-convert\" onclick=\"convertToInteractive('df-978062f2-2735-4f74-9545-e9da20e07836')\"\n",
              "            title=\"Convert this dataframe to an interactive table.\"\n",
              "            style=\"display:none;\">\n",
              "\n",
              "  <svg xmlns=\"http://www.w3.org/2000/svg\" height=\"24px\" viewBox=\"0 -960 960 960\">\n",
              "    <path d=\"M120-120v-720h720v720H120Zm60-500h600v-160H180v160Zm220 220h160v-160H400v160Zm0 220h160v-160H400v160ZM180-400h160v-160H180v160Zm440 0h160v-160H620v160ZM180-180h160v-160H180v160Zm440 0h160v-160H620v160Z\"/>\n",
              "  </svg>\n",
              "    </button>\n",
              "\n",
              "  <style>\n",
              "    .colab-df-container {\n",
              "      display:flex;\n",
              "      gap: 12px;\n",
              "    }\n",
              "\n",
              "    .colab-df-convert {\n",
              "      background-color: #E8F0FE;\n",
              "      border: none;\n",
              "      border-radius: 50%;\n",
              "      cursor: pointer;\n",
              "      display: none;\n",
              "      fill: #1967D2;\n",
              "      height: 32px;\n",
              "      padding: 0 0 0 0;\n",
              "      width: 32px;\n",
              "    }\n",
              "\n",
              "    .colab-df-convert:hover {\n",
              "      background-color: #E2EBFA;\n",
              "      box-shadow: 0px 1px 2px rgba(60, 64, 67, 0.3), 0px 1px 3px 1px rgba(60, 64, 67, 0.15);\n",
              "      fill: #174EA6;\n",
              "    }\n",
              "\n",
              "    .colab-df-buttons div {\n",
              "      margin-bottom: 4px;\n",
              "    }\n",
              "\n",
              "    [theme=dark] .colab-df-convert {\n",
              "      background-color: #3B4455;\n",
              "      fill: #D2E3FC;\n",
              "    }\n",
              "\n",
              "    [theme=dark] .colab-df-convert:hover {\n",
              "      background-color: #434B5C;\n",
              "      box-shadow: 0px 1px 3px 1px rgba(0, 0, 0, 0.15);\n",
              "      filter: drop-shadow(0px 1px 2px rgba(0, 0, 0, 0.3));\n",
              "      fill: #FFFFFF;\n",
              "    }\n",
              "  </style>\n",
              "\n",
              "    <script>\n",
              "      const buttonEl =\n",
              "        document.querySelector('#df-978062f2-2735-4f74-9545-e9da20e07836 button.colab-df-convert');\n",
              "      buttonEl.style.display =\n",
              "        google.colab.kernel.accessAllowed ? 'block' : 'none';\n",
              "\n",
              "      async function convertToInteractive(key) {\n",
              "        const element = document.querySelector('#df-978062f2-2735-4f74-9545-e9da20e07836');\n",
              "        const dataTable =\n",
              "          await google.colab.kernel.invokeFunction('convertToInteractive',\n",
              "                                                    [key], {});\n",
              "        if (!dataTable) return;\n",
              "\n",
              "        const docLinkHtml = 'Like what you see? Visit the ' +\n",
              "          '<a target=\"_blank\" href=https://colab.research.google.com/notebooks/data_table.ipynb>data table notebook</a>'\n",
              "          + ' to learn more about interactive tables.';\n",
              "        element.innerHTML = '';\n",
              "        dataTable['output_type'] = 'display_data';\n",
              "        await google.colab.output.renderOutput(dataTable, element);\n",
              "        const docLink = document.createElement('div');\n",
              "        docLink.innerHTML = docLinkHtml;\n",
              "        element.appendChild(docLink);\n",
              "      }\n",
              "    </script>\n",
              "  </div>\n",
              "\n",
              "\n",
              "<div id=\"df-ef8b1d29-3c81-4f69-af8f-223888702edf\">\n",
              "  <button class=\"colab-df-quickchart\" onclick=\"quickchart('df-ef8b1d29-3c81-4f69-af8f-223888702edf')\"\n",
              "            title=\"Suggest charts\"\n",
              "            style=\"display:none;\">\n",
              "\n",
              "<svg xmlns=\"http://www.w3.org/2000/svg\" height=\"24px\"viewBox=\"0 0 24 24\"\n",
              "     width=\"24px\">\n",
              "    <g>\n",
              "        <path d=\"M19 3H5c-1.1 0-2 .9-2 2v14c0 1.1.9 2 2 2h14c1.1 0 2-.9 2-2V5c0-1.1-.9-2-2-2zM9 17H7v-7h2v7zm4 0h-2V7h2v10zm4 0h-2v-4h2v4z\"/>\n",
              "    </g>\n",
              "</svg>\n",
              "  </button>\n",
              "\n",
              "<style>\n",
              "  .colab-df-quickchart {\n",
              "      --bg-color: #E8F0FE;\n",
              "      --fill-color: #1967D2;\n",
              "      --hover-bg-color: #E2EBFA;\n",
              "      --hover-fill-color: #174EA6;\n",
              "      --disabled-fill-color: #AAA;\n",
              "      --disabled-bg-color: #DDD;\n",
              "  }\n",
              "\n",
              "  [theme=dark] .colab-df-quickchart {\n",
              "      --bg-color: #3B4455;\n",
              "      --fill-color: #D2E3FC;\n",
              "      --hover-bg-color: #434B5C;\n",
              "      --hover-fill-color: #FFFFFF;\n",
              "      --disabled-bg-color: #3B4455;\n",
              "      --disabled-fill-color: #666;\n",
              "  }\n",
              "\n",
              "  .colab-df-quickchart {\n",
              "    background-color: var(--bg-color);\n",
              "    border: none;\n",
              "    border-radius: 50%;\n",
              "    cursor: pointer;\n",
              "    display: none;\n",
              "    fill: var(--fill-color);\n",
              "    height: 32px;\n",
              "    padding: 0;\n",
              "    width: 32px;\n",
              "  }\n",
              "\n",
              "  .colab-df-quickchart:hover {\n",
              "    background-color: var(--hover-bg-color);\n",
              "    box-shadow: 0 1px 2px rgba(60, 64, 67, 0.3), 0 1px 3px 1px rgba(60, 64, 67, 0.15);\n",
              "    fill: var(--button-hover-fill-color);\n",
              "  }\n",
              "\n",
              "  .colab-df-quickchart-complete:disabled,\n",
              "  .colab-df-quickchart-complete:disabled:hover {\n",
              "    background-color: var(--disabled-bg-color);\n",
              "    fill: var(--disabled-fill-color);\n",
              "    box-shadow: none;\n",
              "  }\n",
              "\n",
              "  .colab-df-spinner {\n",
              "    border: 2px solid var(--fill-color);\n",
              "    border-color: transparent;\n",
              "    border-bottom-color: var(--fill-color);\n",
              "    animation:\n",
              "      spin 1s steps(1) infinite;\n",
              "  }\n",
              "\n",
              "  @keyframes spin {\n",
              "    0% {\n",
              "      border-color: transparent;\n",
              "      border-bottom-color: var(--fill-color);\n",
              "      border-left-color: var(--fill-color);\n",
              "    }\n",
              "    20% {\n",
              "      border-color: transparent;\n",
              "      border-left-color: var(--fill-color);\n",
              "      border-top-color: var(--fill-color);\n",
              "    }\n",
              "    30% {\n",
              "      border-color: transparent;\n",
              "      border-left-color: var(--fill-color);\n",
              "      border-top-color: var(--fill-color);\n",
              "      border-right-color: var(--fill-color);\n",
              "    }\n",
              "    40% {\n",
              "      border-color: transparent;\n",
              "      border-right-color: var(--fill-color);\n",
              "      border-top-color: var(--fill-color);\n",
              "    }\n",
              "    60% {\n",
              "      border-color: transparent;\n",
              "      border-right-color: var(--fill-color);\n",
              "    }\n",
              "    80% {\n",
              "      border-color: transparent;\n",
              "      border-right-color: var(--fill-color);\n",
              "      border-bottom-color: var(--fill-color);\n",
              "    }\n",
              "    90% {\n",
              "      border-color: transparent;\n",
              "      border-bottom-color: var(--fill-color);\n",
              "    }\n",
              "  }\n",
              "</style>\n",
              "\n",
              "  <script>\n",
              "    async function quickchart(key) {\n",
              "      const quickchartButtonEl =\n",
              "        document.querySelector('#' + key + ' button');\n",
              "      quickchartButtonEl.disabled = true;  // To prevent multiple clicks.\n",
              "      quickchartButtonEl.classList.add('colab-df-spinner');\n",
              "      try {\n",
              "        const charts = await google.colab.kernel.invokeFunction(\n",
              "            'suggestCharts', [key], {});\n",
              "      } catch (error) {\n",
              "        console.error('Error during call to suggestCharts:', error);\n",
              "      }\n",
              "      quickchartButtonEl.classList.remove('colab-df-spinner');\n",
              "      quickchartButtonEl.classList.add('colab-df-quickchart-complete');\n",
              "    }\n",
              "    (() => {\n",
              "      let quickchartButtonEl =\n",
              "        document.querySelector('#df-ef8b1d29-3c81-4f69-af8f-223888702edf button');\n",
              "      quickchartButtonEl.style.display =\n",
              "        google.colab.kernel.accessAllowed ? 'block' : 'none';\n",
              "    })();\n",
              "  </script>\n",
              "</div>\n",
              "\n",
              "  <div id=\"id_7a1ffe37-f147-46c3-8e75-80044f788e00\">\n",
              "    <style>\n",
              "      .colab-df-generate {\n",
              "        background-color: #E8F0FE;\n",
              "        border: none;\n",
              "        border-radius: 50%;\n",
              "        cursor: pointer;\n",
              "        display: none;\n",
              "        fill: #1967D2;\n",
              "        height: 32px;\n",
              "        padding: 0 0 0 0;\n",
              "        width: 32px;\n",
              "      }\n",
              "\n",
              "      .colab-df-generate:hover {\n",
              "        background-color: #E2EBFA;\n",
              "        box-shadow: 0px 1px 2px rgba(60, 64, 67, 0.3), 0px 1px 3px 1px rgba(60, 64, 67, 0.15);\n",
              "        fill: #174EA6;\n",
              "      }\n",
              "\n",
              "      [theme=dark] .colab-df-generate {\n",
              "        background-color: #3B4455;\n",
              "        fill: #D2E3FC;\n",
              "      }\n",
              "\n",
              "      [theme=dark] .colab-df-generate:hover {\n",
              "        background-color: #434B5C;\n",
              "        box-shadow: 0px 1px 3px 1px rgba(0, 0, 0, 0.15);\n",
              "        filter: drop-shadow(0px 1px 2px rgba(0, 0, 0, 0.3));\n",
              "        fill: #FFFFFF;\n",
              "      }\n",
              "    </style>\n",
              "    <button class=\"colab-df-generate\" onclick=\"generateWithVariable('df')\"\n",
              "            title=\"Generate code using this dataframe.\"\n",
              "            style=\"display:none;\">\n",
              "\n",
              "  <svg xmlns=\"http://www.w3.org/2000/svg\" height=\"24px\"viewBox=\"0 0 24 24\"\n",
              "       width=\"24px\">\n",
              "    <path d=\"M7,19H8.4L18.45,9,17,7.55,7,17.6ZM5,21V16.75L18.45,3.32a2,2,0,0,1,2.83,0l1.4,1.43a1.91,1.91,0,0,1,.58,1.4,1.91,1.91,0,0,1-.58,1.4L9.25,21ZM18.45,9,17,7.55Zm-12,3A5.31,5.31,0,0,0,4.9,8.1,5.31,5.31,0,0,0,1,6.5,5.31,5.31,0,0,0,4.9,4.9,5.31,5.31,0,0,0,6.5,1,5.31,5.31,0,0,0,8.1,4.9,5.31,5.31,0,0,0,12,6.5,5.46,5.46,0,0,0,6.5,12Z\"/>\n",
              "  </svg>\n",
              "    </button>\n",
              "    <script>\n",
              "      (() => {\n",
              "      const buttonEl =\n",
              "        document.querySelector('#id_7a1ffe37-f147-46c3-8e75-80044f788e00 button.colab-df-generate');\n",
              "      buttonEl.style.display =\n",
              "        google.colab.kernel.accessAllowed ? 'block' : 'none';\n",
              "\n",
              "      buttonEl.onclick = () => {\n",
              "        google.colab.notebook.generateWithVariable('df');\n",
              "      }\n",
              "      })();\n",
              "    </script>\n",
              "  </div>\n",
              "\n",
              "    </div>\n",
              "  </div>\n"
            ],
            "application/vnd.google.colaboratory.intrinsic+json": {
              "type": "dataframe",
              "variable_name": "df",
              "summary": "{\n  \"name\": \"df\",\n  \"rows\": 4,\n  \"fields\": [\n    {\n      \"column\": \"M\\u00e9todo\",\n      \"properties\": {\n        \"dtype\": \"string\",\n        \"num_unique_values\": 4,\n        \"samples\": [\n          \"Media Muestral\",\n          \"Muestreo Estratificado\",\n          \"Acierto y Error\"\n        ],\n        \"semantic_type\": \"\",\n        \"description\": \"\"\n      }\n    },\n    {\n      \"column\": \"Aprox Int\",\n      \"properties\": {\n        \"dtype\": \"number\",\n        \"std\": 0.003967556949671674,\n        \"min\": 0.4101168285272091,\n        \"max\": 0.41814200000000007,\n        \"num_unique_values\": 4,\n        \"samples\": [\n          0.41814200000000007,\n          0.41801587393582795,\n          0.41799475771463357\n        ],\n        \"semantic_type\": \"\",\n        \"description\": \"\"\n      }\n    },\n    {\n      \"column\": \"Comparaci\\u00f3n de varianzas\",\n      \"properties\": {\n        \"dtype\": \"number\",\n        \"std\": 0.0003176388557055249,\n        \"min\": 9.007235579667109e-07,\n        \"max\": 0.0006397598359999999,\n        \"num_unique_values\": 4,\n        \"samples\": [\n          0.0006397598359999999,\n          9.007235579667109e-07,\n          8.196574324834455e-06\n        ],\n        \"semantic_type\": \"\",\n        \"description\": \"\"\n      }\n    }\n  ]\n}"
            }
          },
          "metadata": {},
          "execution_count": 269
        }
      ]
    }
  ]
}