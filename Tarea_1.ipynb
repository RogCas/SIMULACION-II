{
  "nbformat": 4,
  "nbformat_minor": 0,
  "metadata": {
    "colab": {
      "provenance": [],
      "authorship_tag": "ABX9TyNdcLimI4mP0bASq0q7c3+k",
      "include_colab_link": true
    },
    "kernelspec": {
      "name": "python3",
      "display_name": "Python 3"
    },
    "language_info": {
      "name": "python"
    }
  },
  "cells": [
    {
      "cell_type": "markdown",
      "metadata": {
        "id": "view-in-github",
        "colab_type": "text"
      },
      "source": [
        "<a href=\"https://colab.research.google.com/github/RogCas/SIMULACION-II/blob/main/Tarea_1.ipynb\" target=\"_parent\"><img src=\"https://colab.research.google.com/assets/colab-badge.svg\" alt=\"Open In Colab\"/></a>"
      ]
    },
    {
      "cell_type": "markdown",
      "source": [
        "# Tarea 1"
      ],
      "metadata": {
        "id": "a12sAYyhgJXJ"
      }
    },
    {
      "cell_type": "markdown",
      "source": [
        "Encontrar 2 numeros de 4 digitos que se ciclen inmediatamente en el metodo de Mid Square"
      ],
      "metadata": {
        "id": "Np-0-P4EUJbN"
      }
    },
    {
      "cell_type": "code",
      "execution_count": 19,
      "metadata": {
        "colab": {
          "base_uri": "https://localhost:8080/"
        },
        "id": "jSiOJ0n3UEF5",
        "outputId": "26f65ff8-6460-4462-8a2b-a1ddffbf093f"
      },
      "outputs": [
        {
          "output_type": "stream",
          "name": "stdout",
          "text": [
            "En un iteracion\n",
            "0\n",
            "100\n",
            "2500\n",
            "3792\n",
            "7600\n",
            "En dos iteraciones\n",
            "0\n",
            "100\n",
            "2500\n",
            "3792\n",
            "7600\n"
          ]
        }
      ],
      "source": [
        "lista1 = []\n",
        "lista2 = []\n",
        "\n",
        "for i in range(10000):\n",
        "\n",
        "    a = i * i\n",
        "    midSquare = (a // 100) % 10000\n",
        "    #print(f\"{i} -> {a} -> {midSquare}\")\n",
        "\n",
        "    b=midSquare*midSquare\n",
        "    midSquare2 = (b // 100) % 10000\n",
        "    #print(f\"{i} -> {midSquare} -> {midSquare2}\")\n",
        "\n",
        "    # Vemos si se cicla en una iteracion\n",
        "    if i == midSquare:\n",
        "        lista1.append(i)\n",
        "    # Vemos si se cicla en dos iteraciones\n",
        "    if  i== midSquare2:\n",
        "        lista2.append(i)\n",
        "\n",
        "print(\"En un iteracion\")\n",
        "for i in lista1:\n",
        "    print(i)\n",
        "\n",
        "print(\"En dos iteraciones\")\n",
        "for i in lista2:\n",
        "    print(i)"
      ]
    },
    {
      "cell_type": "markdown",
      "source": [
        "Podemos observar que solo el ***0,100,2500,3792,7600*** se ciclan inmediatamente\n",
        "\n",
        "Y obviamente ya que se ciclan en 1 iteración tambien en 2, pero es curioso que estos mismos numeros sean los unicos (y no más numeros) que se ciclan en 2 iteraciones"
      ],
      "metadata": {
        "id": "HPwDrQybehoM"
      }
    }
  ]
}