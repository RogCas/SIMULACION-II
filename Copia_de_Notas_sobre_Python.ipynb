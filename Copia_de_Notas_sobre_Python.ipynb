{
  "cells": [
    {
      "cell_type": "markdown",
      "metadata": {
        "id": "view-in-github",
        "colab_type": "text"
      },
      "source": [
        "<a href=\"https://colab.research.google.com/github/RogCas/SIMULACION-II/blob/main/Copia_de_Notas_sobre_Python.ipynb\" target=\"_parent\"><img src=\"https://colab.research.google.com/assets/colab-badge.svg\" alt=\"Open In Colab\"/></a>"
      ]
    },
    {
      "cell_type": "markdown",
      "metadata": {
        "id": "ef0mtyWfwphd"
      },
      "source": [
        "## Listas"
      ]
    },
    {
      "cell_type": "markdown",
      "metadata": {
        "id": "-3kYRyvcwphg"
      },
      "source": [
        "Una **lista** es una colección ordenada de objetos, que pueden ser de distintos tipos. Las listas son mutables y se pueden realizar varias operaciones con ellas mediante funciones de Python."
      ]
    },
    {
      "cell_type": "markdown",
      "metadata": {
        "id": "IlFlBartwphh"
      },
      "source": [
        "Se pueden definir mediante corchetes [ ], entre los cuales se escriben los objetos separados por comas. Así, son listas:"
      ]
    },
    {
      "cell_type": "code",
      "execution_count": null,
      "metadata": {
        "id": "vHbn3hnswphi"
      },
      "outputs": [],
      "source": [
        "l = []\n",
        "\n",
        "m = [1,2,2]\n",
        "\n",
        "lista = [1,2,3,4,5, 'a', 'b', 'c', [1,2], [3, 'c']]"
      ]
    },
    {
      "cell_type": "code",
      "execution_count": null,
      "metadata": {
        "id": "6Wi6h6RTwphj"
      },
      "outputs": [],
      "source": [
        "type(l)  # La función type() devuelve el tipo de objeto que es el argumento"
      ]
    },
    {
      "cell_type": "code",
      "execution_count": null,
      "metadata": {
        "id": "JG9aW0sdwphj"
      },
      "outputs": [],
      "source": [
        "type(m)"
      ]
    },
    {
      "cell_type": "markdown",
      "metadata": {
        "id": "taLyl_2twphj"
      },
      "source": [
        "Las listas son iterables: podemos recorrer sus elementos mediante un bucle:"
      ]
    },
    {
      "cell_type": "code",
      "execution_count": null,
      "metadata": {
        "id": "gRVfamXowphk"
      },
      "outputs": [],
      "source": [
        "for i in lista:\n",
        "    print(i)"
      ]
    },
    {
      "cell_type": "markdown",
      "metadata": {
        "id": "YQ2Jne4Ewphl"
      },
      "source": [
        "Se puede acceder a cada elemento de la lista indicando su posición en ella:"
      ]
    },
    {
      "cell_type": "code",
      "execution_count": null,
      "metadata": {
        "id": "XVuWbSjDwphm"
      },
      "outputs": [],
      "source": [
        "lista[0]"
      ]
    },
    {
      "cell_type": "markdown",
      "metadata": {
        "id": "or09rCBYwphn"
      },
      "source": [
        "Y se puede reemplazar alguno de sus elementos indicando el nuevo valor:"
      ]
    },
    {
      "cell_type": "code",
      "execution_count": null,
      "metadata": {
        "id": "aT96SRyHwphn"
      },
      "outputs": [],
      "source": [
        "lista[0] = 100"
      ]
    },
    {
      "cell_type": "code",
      "execution_count": null,
      "metadata": {
        "id": "3La96O0swphn"
      },
      "outputs": [],
      "source": [
        "print(lista)"
      ]
    },
    {
      "cell_type": "markdown",
      "metadata": {
        "id": "SnuNKR6Owpho"
      },
      "source": [
        "### Ejercicio:\n",
        "\n",
        "¿Cómo accedemos al elemento 'c' de la lista [3, 'c'] dentro de lista?"
      ]
    },
    {
      "cell_type": "markdown",
      "metadata": {
        "id": "KqOom9UMwpho"
      },
      "source": [
        "Con el operador **in** podemos comprobar si un determinado **valor** está en la lista: dará True si está y False si no está."
      ]
    },
    {
      "cell_type": "code",
      "execution_count": null,
      "metadata": {
        "id": "xOmYy3YLwpho"
      },
      "outputs": [],
      "source": [
        "1 in lista"
      ]
    },
    {
      "cell_type": "markdown",
      "metadata": {
        "id": "NetEeUw2wphp"
      },
      "source": [
        "Las listas se pueden sumar y multiplicar"
      ]
    },
    {
      "cell_type": "code",
      "execution_count": null,
      "metadata": {
        "id": "fxmMhzD7wphq"
      },
      "outputs": [],
      "source": [
        "a = [1, 2, 3, 4, 5]\n",
        "b = [6,7,8,9,10]"
      ]
    },
    {
      "cell_type": "code",
      "execution_count": null,
      "metadata": {
        "id": "1D67pAArwphq"
      },
      "outputs": [],
      "source": [
        "a + b"
      ]
    },
    {
      "cell_type": "code",
      "execution_count": null,
      "metadata": {
        "id": "FE4mGhtGwpht"
      },
      "outputs": [],
      "source": [
        "2*b        # Observar el resultado"
      ]
    },
    {
      "cell_type": "markdown",
      "metadata": {
        "id": "zMvkNk7Hwphu"
      },
      "source": [
        "La función **sum( )** devuelve la suma de los elementos de listas numéricas."
      ]
    },
    {
      "cell_type": "code",
      "execution_count": null,
      "metadata": {
        "id": "Qcp8gCaCwphv"
      },
      "outputs": [],
      "source": [
        "sum(a)"
      ]
    },
    {
      "cell_type": "markdown",
      "metadata": {
        "id": "hkq6sXkCwphv"
      },
      "source": [
        "La función **len( )** devuelve el número de elementos de la lista."
      ]
    },
    {
      "cell_type": "code",
      "execution_count": null,
      "metadata": {
        "id": "rEUNEes1wphv"
      },
      "outputs": [],
      "source": [
        "len(l)"
      ]
    },
    {
      "cell_type": "markdown",
      "metadata": {
        "id": "d9E-HZjcwphw"
      },
      "source": [
        "### Ejercicio:"
      ]
    },
    {
      "cell_type": "markdown",
      "metadata": {
        "id": "OicmldEIwphx"
      },
      "source": [
        "Calcular el promedio de:\n",
        "\n",
        "* a\n",
        "* b\n",
        "* 5a ¿Es igual a 5*(promedio de a)?\n",
        "* a + b ¿Es igual a la suma de los promedios?\n",
        "\n",
        "\n"
      ]
    },
    {
      "cell_type": "markdown",
      "metadata": {
        "id": "iI7B48sBwphx"
      },
      "source": [
        "También se puede acceder a los elementos de una lista por rangos."
      ]
    },
    {
      "cell_type": "code",
      "execution_count": null,
      "metadata": {
        "id": "mI_enUIVwphx"
      },
      "outputs": [],
      "source": [
        "a[1:]"
      ]
    },
    {
      "cell_type": "code",
      "execution_count": null,
      "metadata": {
        "id": "DeLelv23wphx"
      },
      "outputs": [],
      "source": [
        "a[:2]"
      ]
    },
    {
      "cell_type": "code",
      "execution_count": null,
      "metadata": {
        "id": "0qF2xBOiwphx"
      },
      "outputs": [],
      "source": [
        "a[3:5]"
      ]
    },
    {
      "cell_type": "code",
      "execution_count": null,
      "metadata": {
        "id": "zM_Ywoa8wphy"
      },
      "outputs": [],
      "source": [
        "a[::2]"
      ]
    },
    {
      "cell_type": "markdown",
      "metadata": {
        "id": "tSxmhpVqwphy"
      },
      "source": [
        "La función **append( )** agrega un elemento al final de la lista."
      ]
    },
    {
      "cell_type": "markdown",
      "metadata": {
        "id": "b6OzkMudwphy"
      },
      "source": [
        "### Ejercicio:\n",
        "\n",
        "1 Generar una lista de 20 números aleatorios.\n",
        "\n",
        "2 Obtener el promedio de los 10 últimos números generados."
      ]
    },
    {
      "cell_type": "code",
      "execution_count": null,
      "metadata": {
        "id": "hkJ8VnMTwphy"
      },
      "outputs": [],
      "source": []
    },
    {
      "cell_type": "code",
      "execution_count": null,
      "metadata": {
        "id": "1WjS9xp0wphy"
      },
      "outputs": [],
      "source": []
    },
    {
      "cell_type": "markdown",
      "metadata": {
        "id": "juHvAYphwphy"
      },
      "source": [
        "## Diccionarios"
      ]
    },
    {
      "cell_type": "markdown",
      "metadata": {
        "id": "hEWNUiFfwphz"
      },
      "source": [
        "Un **diccionario** es una estructura de datos que almacena conjuntos de pares **clave-valor**."
      ]
    },
    {
      "cell_type": "markdown",
      "metadata": {
        "id": "yJkHKyY0wphz"
      },
      "source": [
        "Para definir un diccionario se escribe un listado entre llaves, {}, mediante un sistema de pares clave-valor. Las entredas se separan por comas y la clave se separa del valor mediante dos puntos, :."
      ]
    },
    {
      "cell_type": "code",
      "execution_count": null,
      "metadata": {
        "id": "P3UWKXjCwphz"
      },
      "outputs": [],
      "source": [
        "diccionario = {'Nombre': 'Isaac', 'Edad':'22', 'Cursos':['Ecuaciones','Simulación','Operaciones']}"
      ]
    },
    {
      "cell_type": "code",
      "execution_count": null,
      "metadata": {
        "id": "qBzTQOjqwph7"
      },
      "outputs": [],
      "source": [
        "diccionario['Nombre']"
      ]
    },
    {
      "cell_type": "code",
      "execution_count": null,
      "metadata": {
        "id": "p6X9pwD9wph8"
      },
      "outputs": [],
      "source": [
        "diccionario['Cursos'][1]"
      ]
    },
    {
      "cell_type": "markdown",
      "metadata": {
        "id": "Rqd0qGl9wph8"
      },
      "source": [
        "La función **dict( )** permite crear un diccionario:"
      ]
    },
    {
      "cell_type": "code",
      "execution_count": null,
      "metadata": {
        "id": "wGwS43_7wph9"
      },
      "outputs": [],
      "source": [
        "d = dict(a=1, b=2, c=3)"
      ]
    },
    {
      "cell_type": "code",
      "execution_count": null,
      "metadata": {
        "id": "-JphcBWewph9"
      },
      "outputs": [],
      "source": [
        "print(d)"
      ]
    },
    {
      "cell_type": "code",
      "execution_count": null,
      "metadata": {
        "id": "ejnA5WRswph-"
      },
      "outputs": [],
      "source": [
        "type(d)"
      ]
    },
    {
      "cell_type": "code",
      "execution_count": null,
      "metadata": {
        "id": "4bOuOpdmwph-"
      },
      "outputs": [],
      "source": [
        "len(d)"
      ]
    },
    {
      "cell_type": "markdown",
      "metadata": {
        "id": "G4sfRsSFwph-"
      },
      "source": [
        "Con el operador in podemos comprobar si una determinada **clave** está en el diccionario: dará True si está y False si no está."
      ]
    },
    {
      "cell_type": "code",
      "execution_count": null,
      "metadata": {
        "id": "vQkJcxe_wph_"
      },
      "outputs": [],
      "source": [
        "'a' in d"
      ]
    },
    {
      "cell_type": "markdown",
      "metadata": {
        "id": "JwWxuj7Vwph_"
      },
      "source": [
        "Las diccionarios son iterables: podemos recorrer sus elementos mediante un bucle:"
      ]
    },
    {
      "cell_type": "code",
      "execution_count": null,
      "metadata": {
        "id": "KbkvBJ6Pwph_"
      },
      "outputs": [],
      "source": [
        "for key in diccionario:\n",
        "    print(key, \":\", diccionario[key])"
      ]
    },
    {
      "cell_type": "markdown",
      "metadata": {
        "id": "iVxyMUwRwpiA"
      },
      "source": [
        "**items()** devuelve las tuplas clave-valor del diccionario."
      ]
    },
    {
      "cell_type": "code",
      "execution_count": null,
      "metadata": {
        "id": "ZZUPRZbFwpiA"
      },
      "outputs": [],
      "source": [
        "diccionario.items()"
      ]
    },
    {
      "cell_type": "markdown",
      "metadata": {
        "id": "lmT4WcFmwpiA"
      },
      "source": [
        "**items()** devuelve una tupla, lo cual permite verificar si un par clave-valor está en el diccionario."
      ]
    },
    {
      "cell_type": "code",
      "execution_count": null,
      "metadata": {
        "id": "RWc_cIonwpiA"
      },
      "outputs": [],
      "source": [
        "('a',1) in d.items()"
      ]
    },
    {
      "cell_type": "markdown",
      "metadata": {
        "id": "LuSgtnt5wpiB"
      },
      "source": [
        "**values()** devuelve una lista de los valores del diccionario."
      ]
    },
    {
      "cell_type": "code",
      "execution_count": null,
      "metadata": {
        "id": "vJ0eGU-fwpiB"
      },
      "outputs": [],
      "source": [
        "diccionario.values()"
      ]
    },
    {
      "cell_type": "code",
      "execution_count": null,
      "metadata": {
        "id": "mGt98d-hwpiC"
      },
      "outputs": [],
      "source": []
    }
  ],
  "metadata": {
    "kernelspec": {
      "display_name": "Python 3",
      "language": "python",
      "name": "python3"
    },
    "language_info": {
      "codemirror_mode": {
        "name": "ipython",
        "version": 3
      },
      "file_extension": ".py",
      "mimetype": "text/x-python",
      "name": "python",
      "nbconvert_exporter": "python",
      "pygments_lexer": "ipython3",
      "version": "3.7.3"
    },
    "colab": {
      "provenance": [],
      "include_colab_link": true
    }
  },
  "nbformat": 4,
  "nbformat_minor": 0
}